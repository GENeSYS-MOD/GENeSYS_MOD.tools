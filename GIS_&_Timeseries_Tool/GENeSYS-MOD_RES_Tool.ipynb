{
 "cells": [
  {
   "cell_type": "markdown",
   "id": "c5fe0f27",
   "metadata": {},
   "source": [
    "## General requirements & preparation\n",
    "\n",
    "This timeseries script uses functions from atlite to generate weather timeseries for GENeSYS-MOD. It uses the ERA5 weather dataset, which is downloaded and transformed locally.\n",
    "Please be aware that for the entire European dataset, a large amount of system memory is required (at least 24GB of RAM).\n",
    "\n",
    "\n",
    "To use this script, you need to have the following packages installed:\n",
    "- numpy\n",
    "- matplotlib\n",
    "- seaborn\n",
    "- pandas / geopandas\n",
    "- scikit-learn\n",
    "- cartopy\n",
    "- xarray\n",
    "- atlite\n",
    "\n",
    "In addition, in order to be able to load the ERA5 cutouts, you need an API key from https://cds.climate.copernicus.eu/user/register?destination=%2F%23!%2Fhome\n",
    "\n",
    "To activate the API key, follow the instructions at https://cds.climate.copernicus.eu/api-how-to\n",
    "\n",
    "For more information on how to run atlite, please refer to https://atlite.readthedocs.io/en/latest/"
   ]
  },
  {
   "cell_type": "code",
   "execution_count": null,
   "id": "63116a90",
   "metadata": {},
   "outputs": [],
   "source": [
    "from functions import *"
   ]
  },
  {
   "cell_type": "code",
   "execution_count": null,
   "id": "af498abb",
   "metadata": {},
   "outputs": [],
   "source": [
    "onshore_turbine = 'Vestas_V112_3MW'\n",
    "offshore_turbine = 'Vestas_V164_7MW_offshore'\n",
    "solar_panel = 'CSi'\n",
    "geo_file = \"geodata/natural_earth_world_admin1.geojson\"\n",
    "\n",
    "\n",
    "timeframe = \"2018-01-01\"   # timeframe for the timeseries. format example: 2018 OR 2018-01 OR 2018-01-01\n",
    "filename = \"germany\"   # filename for the downloaded raw data (cutout). this needs to be changed for every new run/year/region\n",
    "output_dir = create_output_folder(timeframe)   # creates an output folder, if it does not exist yet\n",
    "\n",
    "# choose either 0 for country-level (NUTS-0) or 1 for major socio-economic regions (NUTS-1)\n",
    "admin = 0\n",
    "\n",
    "# country ISO 3166-1 alpha-2 code. If all regions of cutout are needed, leave list empty\n",
    "regions = [\"DE\"] \n",
    "\n",
    "# cutout cooridnates. Leave empty, if the cutout should be taken from a shapefile (with above specified regions)\n",
    "cutout_north_west = []\n",
    "cutout_south_east = []"
   ]
  },
  {
   "cell_type": "code",
   "execution_count": 3,
   "id": "4b217b17",
   "metadata": {},
   "outputs": [],
   "source": [
    "# Here, you need to define the PV slope and azimuth of the panels (defaults to slope of 36.7 and azimuth of 180 if not defined)\n",
    "pv_slope = 36.7\n",
    "pv_azimuth = 180"
   ]
  },
  {
   "cell_type": "markdown",
   "id": "18a1882c",
   "metadata": {},
   "source": [
    "## Region Defitinition & Cutout preparation\n",
    "\n",
    "In this block, you need to define your coordinates, either by using your own fixed coordinates (by defining custom bounds), or using the automatic .geojson mapping for the country of your choice.\n",
    "\n",
    "Be aware that the first preparation of the cutout will take significant time!"
   ]
  },
  {
   "cell_type": "code",
   "execution_count": null,
   "id": "851dadbe",
   "metadata": {},
   "outputs": [],
   "source": [
    "cutout = get_cutout(filename, \n",
    "                    timeframe, \n",
    "                    regions=regions, \n",
    "                    dx=0.25, \n",
    "                    dy=0.25)"
   ]
  },
  {
   "cell_type": "markdown",
   "id": "d2ecc18c",
   "metadata": {},
   "source": [
    "Plotting your cutout to ensure that everything is correct!\n",
    "\n",
    "You can add zoom=True/False to zoom into your selection and use size to set the size of the graph if needed."
   ]
  },
  {
   "cell_type": "code",
   "execution_count": null,
   "id": "a4defb16",
   "metadata": {},
   "outputs": [],
   "source": [
    "plot_country_map(cutout) # plot_country_map(cutout,zoom=False,size=8)"
   ]
  },
  {
   "cell_type": "markdown",
   "id": "e608a3ce",
   "metadata": {},
   "source": [
    "## Functions for timeseries generation"
   ]
  },
  {
   "cell_type": "code",
   "execution_count": 6,
   "id": "97b9913c",
   "metadata": {},
   "outputs": [],
   "source": [
    "coords_onshore, coords_offshore = get_coords(cutout, \n",
    "                                             regions, \n",
    "                                             geo_file, \n",
    "                                             admin=admin)"
   ]
  },
  {
   "cell_type": "code",
   "execution_count": 7,
   "id": "28d0771c",
   "metadata": {},
   "outputs": [],
   "source": [
    "pv_inf, pv_avg, pv_opt = pv_capacity_factors(cutout, \n",
    "                                             coords_onshore, \n",
    "                                             solar_panel,\n",
    "                                             pv_slope=pv_slope,\n",
    "                                             pv_azimuth=pv_azimuth, \n",
    "                                             timeframe=timeframe, \n",
    "                                             filename=filename,\n",
    "                                             write_raw_data=False, # determines if you want to have the aggregated outputs per administrative region or the full dataset of each individual coordinate (default: False)\n",
    "                                             output_dir=output_dir)"
   ]
  },
  {
   "cell_type": "code",
   "execution_count": 8,
   "id": "19685afd",
   "metadata": {},
   "outputs": [],
   "source": [
    "pv_tra = pv_capacity_factors(cutout, \n",
    "                             coords_onshore, \n",
    "                             solar_panel,\n",
    "                             tracking= \"horizontal\",\n",
    "                             pv_azimuth=0, #refers to oriantation of the axis in this case\n",
    "                             timeframe=timeframe, \n",
    "                             filename=filename,\n",
    "                             write_raw_data=False,\n",
    "                             output_dir=output_dir)"
   ]
  },
  {
   "cell_type": "code",
   "execution_count": null,
   "id": "412e7327",
   "metadata": {},
   "outputs": [],
   "source": [
    "display(pv_inf.mean())\n",
    "display(pv_avg.mean())\n",
    "display(pv_opt.mean())"
   ]
  },
  {
   "cell_type": "code",
   "execution_count": null,
   "id": "7fee31d1",
   "metadata": {},
   "outputs": [],
   "source": [
    "display(pv_tra.mean())"
   ]
  },
  {
   "cell_type": "code",
   "execution_count": 11,
   "id": "00be6126",
   "metadata": {},
   "outputs": [],
   "source": [
    "wind_onshore_inf, wind_onshore_avg, wind_onshore_opt = wind_onshore_capacity_factors(cutout, \n",
    "                                                                                     coords_onshore, \n",
    "                                                                                     onshore_turbine,  \n",
    "                                                                                     timeframe=timeframe, \n",
    "                                                                                     filename=filename,\n",
    "                                                                                     write_raw_data=False, # determines if you want to have the aggregated outputs per administrative region or the full dataset of each individual coordinate (default: False)\n",
    "                                                                                     output_dir=output_dir)"
   ]
  },
  {
   "cell_type": "code",
   "execution_count": null,
   "id": "9d9c6ec3",
   "metadata": {},
   "outputs": [],
   "source": [
    "display(wind_onshore_inf.mean()) \n",
    "display(wind_onshore_avg.mean()) \n",
    "display(wind_onshore_opt.mean())"
   ]
  },
  {
   "cell_type": "code",
   "execution_count": 13,
   "id": "969b1751",
   "metadata": {},
   "outputs": [],
   "source": [
    "wind_offshore_shallow, wind_offshore_transitional, wind_offshore_deep = wind_offshore_capacity_factors(cutout, \n",
    "                                                                                                       coords_offshore, \n",
    "                                                                                                       offshore_turbine, \n",
    "                                                                                                       timeframe=timeframe,\n",
    "                                                                                                       filename=filename,\n",
    "                                                                                                       write_raw_data=False, # determines if you want to have the aggregated outputs per administrative region or the full dataset of each individual coordinate (default: False)\n",
    "                                                                                                       output_dir=output_dir)"
   ]
  },
  {
   "cell_type": "code",
   "execution_count": null,
   "id": "8de21118",
   "metadata": {},
   "outputs": [],
   "source": [
    "display(wind_offshore_shallow.mean())\n",
    "display(wind_offshore_transitional.mean())\n",
    "display(wind_offshore_deep.mean())"
   ]
  },
  {
   "cell_type": "code",
   "execution_count": 15,
   "id": "5dfb690b",
   "metadata": {},
   "outputs": [],
   "source": [
    "df_heatpump_ground_cop, df_cooling, df_heating, df_heatpump_cop = temperature_timeseries(cutout,\n",
    "                                                                                        coords_onshore,\n",
    "                                                                                        timeframe=timeframe,\n",
    "                                                                                        filename=filename,\n",
    "                                                                                        write_raw_data=False, # determines if you want to have the aggregated outputs per administrative region or the full dataset of each individual coordinate (default: False)\n",
    "                                                                                        output_dir=output_dir)"
   ]
  },
  {
   "cell_type": "code",
   "execution_count": null,
   "id": "5b91a92b",
   "metadata": {},
   "outputs": [],
   "source": [
    "display(df_heatpump_ground_cop.mean())\n",
    "display(df_heatpump_cop.mean())\n",
    "display(df_cooling.mean())\n",
    "display(df_heating.mean())"
   ]
  },
  {
   "cell_type": "markdown",
   "id": "f46a93be",
   "metadata": {},
   "source": [
    "### GIS-based renewable energy potentials"
   ]
  },
  {
   "cell_type": "markdown",
   "id": "4ce5e3e2",
   "metadata": {},
   "source": [
    "##### This part is still somewhat experimental. It uses functionality from the Atlite package to calculate available capcities for utility-scale PV, onshore wind, and rooftop PV installations.\n",
    "##### It uses the information from the timeseries part to compute the shapefiles, the only thing that needs to be provided is the excluder zones (e.g. WDPA for protected areas). CORINE is provided for land cover in Europe, anything else would need to be separately downloaded."
   ]
  },
  {
   "cell_type": "code",
   "execution_count": null,
   "id": "f96254c9",
   "metadata": {},
   "outputs": [],
   "source": [
    "shapes, regions_name_en = gis_get_country_geometry(regions,admin,cutout)"
   ]
  },
  {
   "cell_type": "code",
   "execution_count": 18,
   "id": "33d56913",
   "metadata": {},
   "outputs": [],
   "source": [
    "CORINE = \"geodata/corine.tif\"\n",
    "WDPA = \"geodata/WDPA_Oct2024_Public_shp-polygons.shp\"\n",
    "\n",
    "excluder = ExclusionContainer()\n",
    "excluder.add_raster(CORINE, codes=range(20))\n",
    "#excluder.add_geometry(WDPA)\n",
    "\n",
    "cities = ExclusionContainer()\n",
    "cities.add_raster(CORINE, codes=range(1,6),invert=True)"
   ]
  },
  {
   "cell_type": "code",
   "execution_count": null,
   "id": "5ebb8074",
   "metadata": {},
   "outputs": [],
   "source": [
    "AvailabilityMatrix = calculate_and_plot_available_area(admin,cutout,shapes,regions_name_en,excluder)"
   ]
  },
  {
   "cell_type": "code",
   "execution_count": null,
   "id": "4881538a",
   "metadata": {},
   "outputs": [],
   "source": [
    "AvailabilityMatrix_Rooftop = calculate_and_plot_available_rooftops(admin,cutout,shapes,regions_name_en,cities)"
   ]
  },
  {
   "cell_type": "code",
   "execution_count": 21,
   "id": "386821c1",
   "metadata": {},
   "outputs": [],
   "source": [
    "pv_cap_per_sqkm = 100                   # MW\n",
    "pv_percent_land_available = 0.03        # % of suitable area\n",
    "wind_cap_per_sqkm = 27                  # MW\n",
    "wind_percent_land_available = 0.03      # % of suitable area\n",
    "rooftop_cap_per_sqkm = 100              # MW\n",
    "rooftop_percent_area_available = 0.2    # % of all rooftops"
   ]
  },
  {
   "cell_type": "code",
   "execution_count": 22,
   "id": "2c19221b",
   "metadata": {},
   "outputs": [],
   "source": [
    "output_df = calculate_capacity_potentials(cutout,coords_onshore,AvailabilityMatrix,AvailabilityMatrix_Rooftop,pv_cap_per_sqkm,pv_percent_land_available,wind_cap_per_sqkm,wind_percent_land_available,rooftop_cap_per_sqkm,rooftop_percent_area_available)"
   ]
  },
  {
   "cell_type": "code",
   "execution_count": null,
   "id": "a201b566",
   "metadata": {},
   "outputs": [],
   "source": [
    "# here is the resulting DataFrame containing all the potentials and areas that have been calculated\n",
    "output_df"
   ]
  }
 ],
 "metadata": {
  "kernelspec": {
   "display_name": "weather",
   "language": "python",
   "name": "python3"
  },
  "language_info": {
   "codemirror_mode": {
    "name": "ipython",
    "version": 3
   },
   "file_extension": ".py",
   "mimetype": "text/x-python",
   "name": "python",
   "nbconvert_exporter": "python",
   "pygments_lexer": "ipython3",
   "version": "3.10.9"
  },
  "varInspector": {
   "cols": {
    "lenName": 16,
    "lenType": 16,
    "lenVar": 40
   },
   "kernels_config": {
    "python": {
     "delete_cmd_postfix": "",
     "delete_cmd_prefix": "del ",
     "library": "var_list.py",
     "varRefreshCmd": "print(var_dic_list())"
    },
    "r": {
     "delete_cmd_postfix": ") ",
     "delete_cmd_prefix": "rm(",
     "library": "var_list.r",
     "varRefreshCmd": "cat(var_dic_list()) "
    }
   },
   "types_to_exclude": [
    "module",
    "function",
    "builtin_function_or_method",
    "instance",
    "_Feature"
   ],
   "window_display": false
  }
 },
 "nbformat": 4,
 "nbformat_minor": 5
}
