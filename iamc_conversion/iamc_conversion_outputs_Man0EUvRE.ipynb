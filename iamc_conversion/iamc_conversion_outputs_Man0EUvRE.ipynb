{
 "cells": [
  {
   "cell_type": "markdown",
   "metadata": {},
   "source": [
    "### General information\n",
    "\n",
    "This python module uses the following external packages:\n",
    "- pandas\n",
    "- pyam-iamc(https://github.com/IAMconsortium/pyam)\n",
    "- nomenclature-iamc (https://github.com/openENTRANCE/nomenclature)\n",
    "- gdxpds (https://github.com/NREL/gdx-pandas)"
   ]
  },
  {
   "cell_type": "markdown",
   "metadata": {},
   "source": [
    "#### File structure of the module\n",
    "- __this_file__ : Jupyter notebook with general guidelines\n",
    "- /genesysmod_to_iamc : Folder with actual conversion scripts\n",
    " - /genesysmod_to_iamc/mappings/ : Folder with mappings of GENeSYS-MOD variables to openEntrance nomenclature\n",
    " - /genesysmod_to_iamc/inputs/ : Folder with original GENeSYS-MOD pathway results\n",
    " - /genesysmod_to_iamc/out/ : Folder with generated csv files in openEntrance format\n",
    " - /genesysmod_to_iamc/definitions : Folder with the definitions from the openENTRANCE nomenclature repository (**see info below**) \n",
    " \n",
    "**Hint:** You need to make sure to download the most current version of the definitions from https://github.com/openENTRANCE/openentrance and paste the folder \"definitions\" in the local folder. A proven working version of the definitions can be found at commit *e16defbd61ad865eb98c2fc718122f10b4c7341e*, available for download here: https://github.com/openENTRANCE/openentrance/commit/e16defbd61ad865eb98c2fc718122f10b4c7341e.\n"
   ]
  },
  {
   "cell_type": "markdown",
   "metadata": {},
   "source": [
    "#### Changes to the scripts required to run the conversion\n",
    "This script uses gdxpds which was unable to succesfully locate the GAMS directory by itself in its newest version. Therefore, the path to GAMS needs to be set manually. **You will need to change the directory such that it correctly points to your installed GAMS distribution.** The variable is called *DEF_GAMS_DIR* and is set in the file *genesysmod_to_iamc/\\_statics.py*.\n",
    "\n",
    "Also, you can change the read-in filenames, model name, etc. in the same file."
   ]
  },
  {
   "cell_type": "markdown",
   "metadata": {},
   "source": [
    "### GENeSYS-MOD to openEntrance converter\n",
    "\n",
    "This jupyter notebook shows an exemplary conversion of GENeSYS-MOD results to the common openENTRANCE data fromat. The outputs of the scripts in this module will be csv files, that represent GENeSYS-MOD data in openENTRANCE nomenclature. First, the corresponding scripts will be imported as module to this notebook:"
   ]
  },
  {
   "cell_type": "code",
   "execution_count": 1,
   "metadata": {
    "scrolled": true
   },
   "outputs": [
    {
     "name": "stderr",
     "output_type": "stream",
     "text": [
      "C:\\Users\\testbed\\anaconda3\\lib\\site-packages\\numpy\\_distributor_init.py:30: UserWarning: loaded more than 1 DLL from .libs:\n",
      "C:\\Users\\testbed\\anaconda3\\lib\\site-packages\\numpy\\.libs\\libopenblas.FB5AE2TYXYH2IJRDKGDGQ3XBKLKTF43H.gfortran-win_amd64.dll\n",
      "C:\\Users\\testbed\\anaconda3\\lib\\site-packages\\numpy\\.libs\\libopenblas64__v0.3.21-gcc_10_3_0.dll\n",
      "  warnings.warn(\"loaded more than 1 DLL from .libs:\"\n",
      "<frozen importlib._bootstrap>:219: RuntimeWarning: scipy._lib.messagestream.MessageStream size changed, may indicate binary incompatibility. Expected 56 from C header, got 64 from PyObject\n"
     ]
    },
    {
     "data": {
      "application/javascript": [
       "if (typeof IPython !== 'undefined') { IPython.OutputArea.prototype._should_scroll = function(lines){ return false; }}"
      ],
      "text/plain": [
       "<IPython.core.display.Javascript object>"
      ]
     },
     "metadata": {},
     "output_type": "display_data"
    }
   ],
   "source": [
    "import genesysmod_to_iamc"
   ]
  },
  {
   "cell_type": "markdown",
   "metadata": {},
   "source": [
    "Next, the actual result file conversion can be started by calling ```genesysmod_to_iamc.generate_data(FileName: str, FileType: str)```. For the ease of use, the module ```genesysmod_to_iamc``` also includes an enumeration ```Pathways``` that includes references to the filenames for the openEntrance Pathways:\n",
    "\n",
    "```\n",
    "class Pathways(Enum):\n",
    "    TF = \"TechnoFriendly\"\n",
    "    DT = \"DirectedTransition\"\n",
    "    GD = \"GradualDevelopment\"\n",
    "    SC = \"SocietalCommitment\"\n",
    "    \n",
    "```"
   ]
  },
  {
   "cell_type": "markdown",
   "metadata": {},
   "source": [
    "For any other filenames, the name can be passed as the first argument in the function call as a string, without the file extension. As a second argument, the file type has to be specified. Currently, acceptable file types are ``'gdx'`` and ``'csv'``."
   ]
  },
  {
   "cell_type": "markdown",
   "metadata": {},
   "source": [
    "When using the `'csv'` file type, the output of GENeSYS-MOD's Julia version is expected. This output consists of several csv files, which names start with the corresponding output type, followed by the name of the specific model run. E.g. `'output_energy_balance_Sample_Model_Run.csv'`. It's important that the files keep that naming convention. If the `'csv'` file type is used, the name of the model run (the second part of the output file name) is used as the file name for the first argument in the function call."
   ]
  },
  {
   "cell_type": "markdown",
   "metadata": {},
   "source": [
    "Furthermore, ```genesysmod_to_iamc.generate_data(FileName : str)``` has four optional parameters ```generate_series_data```, ```generate_load_factors```, ```generate_transmission_data```, and ```combine_outputs``` that all default to ```False```. \n",
    "\n",
    "If ```generate_series_data``` is set to ```True```, full hourly demand time series for Final Energy|Residential and Commercial|Electricity, Final Energy|Industry|Electricity, Final Energy|Transportation|Electricity, Final Energy|Electricity, Final Energy|Residential and Commercial and Final Energy|Industry will be generated. Full hourly demand series will be written to an extra file. **Note:** setting this parameter will significantly increase the computing time.\n",
    "\n",
    "If ```generate_load_factors``` is set to ```True```, full hourly load series for Solar PV, Wind Onshore and Wind Offshore will be generated. Full hourly load series will be written to an extra file. **Note:** setting this parameter will significantly increase the computing time.\n",
    "\n",
    "**Note:** For both the series data and load factors, an input excel file in the GENeSYS-MOD format is expected. The file name needs to start with \"Timeseries_\" followed by the gdx file name or the name of the model run for gdx or csv file type respectively (E.g: \"Timeseries_Sample_Model_Run\").\n",
    "\n",
    "If ```generate_transmission_data``` is set to true, the electricity grid information like trade flows and net trade capacities will be output as well.\n",
    "\n",
    "If ```combine_outputs``` is set to ```True```, the different result files for a pathway (yearly, hourly, load factors) can be combined to one single file. "
   ]
  },
  {
   "cell_type": "code",
   "execution_count": 2,
   "metadata": {},
   "outputs": [],
   "source": [
    "generate_series_data = False\n",
    "generate_load_factors = False\n",
    "generate_transmission_data = True\n",
    "combine_outputs = True"
   ]
  },
  {
   "cell_type": "markdown",
   "metadata": {},
   "source": [
    "Example creation of results for a gdx input file:"
   ]
  },
  {
   "cell_type": "code",
   "execution_count": null,
   "metadata": {},
   "outputs": [],
   "source": [
    "genesysmod_to_iamc.generate_data(\"sample_gdx_file\",\n",
    "                                 \"gdx\",\n",
    "                                 generate_series_data, \n",
    "                                 generate_load_factors,\n",
    "                                 generate_transmission_data,\n",
    "                                 combine_outputs)"
   ]
  },
  {
   "cell_type": "markdown",
   "metadata": {},
   "source": [
    "Example creation of results for csv input files:"
   ]
  },
  {
   "cell_type": "code",
   "execution_count": null,
   "metadata": {},
   "outputs": [],
   "source": [
    "genesysmod_to_iamc.generate_data(\"Sample_Model_Run\",\n",
    "                                 \"csv\",\n",
    "                                 generate_series_data, \n",
    "                                 generate_load_factors,\n",
    "                                 generate_transmission_data,\n",
    "                                 combine_outputs)"
   ]
  },
  {
   "cell_type": "markdown",
   "metadata": {},
   "source": [
    "# Man0EUvRE scenarios"
   ]
  },
  {
   "cell_type": "code",
   "execution_count": 3,
   "metadata": {},
   "outputs": [
    {
     "name": "stderr",
     "output_type": "stream",
     "text": [
      "2025-02-09 17:04:50 INFO     Loading gdx with output results\n",
      "2025-02-09 17:04:59 INFO     Executing: generate_transmission_capacity_values\n",
      "2025-02-09 17:04:59 INFO     Executing: generate_demand_series\n",
      "2025-02-09 17:05:10 INFO     Executing: generate_primary_energy_values\n",
      "2025-02-09 17:05:15 INFO     Executing: generate_final_energy_values\n",
      "2025-02-09 17:05:30 INFO     Executing: generate_capacity_values\n",
      "2025-02-09 17:05:30 INFO     Executing: generate_transport_capacity_values\n",
      "2025-02-09 17:05:30 INFO     Executing: generate_storage_capacity_values\n",
      "2025-02-09 17:05:30 INFO     Executing: generate_emissions_values\n",
      "2025-02-09 17:05:30 INFO     Executing: generate_secondary_energy\n",
      "2025-02-09 17:05:37 INFO     Executing: generate_capital_costs_values\n",
      "2025-02-09 17:05:37 INFO     Executing: generate_fixed_costs_values\n",
      "2025-02-09 17:05:37 INFO     Executing: generate_variable_costs_values\n",
      "2025-02-09 17:05:40 INFO     Executing: generate_transport_capital_costs_values\n",
      "2025-02-09 17:05:40 INFO     Executing: generate_transport_fixed_costs_values\n",
      "2025-02-09 17:05:40 INFO     Executing: generate_levelized_costs_values\n",
      "2025-02-09 17:05:40 INFO     Executing: generate_co2_prices\n",
      "2025-02-09 17:05:40 INFO     Executing: generate_idataframe\n",
      "2025-02-09 17:06:51 INFO     Reading file C:\\Users\\testbed\\Documents\\IAMC_Datatest\\genesysmod_to_iamc\\out\\GoRES_yearly.csv\n"
     ]
    }
   ],
   "source": [
    "genesysmod_to_iamc.generate_data(genesysmod_to_iamc.Pathways.GR.value, \n",
    "                                 \"gdx\",\n",
    "                                 generate_series_data, \n",
    "                                 generate_load_factors,\n",
    "                                 generate_transmission_data,\n",
    "                                 combine_outputs)"
   ]
  },
  {
   "cell_type": "code",
   "execution_count": 4,
   "metadata": {},
   "outputs": [
    {
     "name": "stderr",
     "output_type": "stream",
     "text": [
      "2025-02-09 17:06:51 INFO     Loading gdx with output results\n",
      "2025-02-09 17:07:01 INFO     Executing: generate_transmission_capacity_values\n",
      "2025-02-09 17:07:01 INFO     Executing: generate_demand_series\n",
      "2025-02-09 17:07:11 INFO     Executing: generate_primary_energy_values\n",
      "2025-02-09 17:07:18 INFO     Executing: generate_final_energy_values\n",
      "2025-02-09 17:07:33 INFO     Executing: generate_capacity_values\n",
      "2025-02-09 17:07:33 INFO     Executing: generate_transport_capacity_values\n",
      "2025-02-09 17:07:33 INFO     Executing: generate_storage_capacity_values\n",
      "2025-02-09 17:07:34 INFO     Executing: generate_emissions_values\n",
      "2025-02-09 17:07:34 INFO     Executing: generate_secondary_energy\n",
      "2025-02-09 17:07:41 INFO     Executing: generate_capital_costs_values\n",
      "2025-02-09 17:07:41 INFO     Executing: generate_fixed_costs_values\n",
      "2025-02-09 17:07:41 INFO     Executing: generate_variable_costs_values\n",
      "2025-02-09 17:07:44 INFO     Executing: generate_transport_capital_costs_values\n",
      "2025-02-09 17:07:44 INFO     Executing: generate_transport_fixed_costs_values\n",
      "2025-02-09 17:07:44 INFO     Executing: generate_levelized_costs_values\n",
      "2025-02-09 17:07:45 INFO     Executing: generate_co2_prices\n",
      "2025-02-09 17:07:45 INFO     Executing: generate_idataframe\n",
      "2025-02-09 17:08:59 INFO     Reading file C:\\Users\\testbed\\Documents\\IAMC_Datatest\\genesysmod_to_iamc\\out\\REPowerEU++_yearly.csv\n"
     ]
    }
   ],
   "source": [
    "genesysmod_to_iamc.generate_data(genesysmod_to_iamc.Pathways.RE.value, \n",
    "                                 \"gdx\",\n",
    "                                 generate_series_data, \n",
    "                                 generate_load_factors,\n",
    "                                 generate_transmission_data,\n",
    "                                 combine_outputs)"
   ]
  },
  {
   "cell_type": "code",
   "execution_count": 5,
   "metadata": {},
   "outputs": [
    {
     "name": "stderr",
     "output_type": "stream",
     "text": [
      "2025-02-09 17:09:00 INFO     Loading gdx with output results\n",
      "2025-02-09 17:09:10 INFO     Executing: generate_transmission_capacity_values\n",
      "2025-02-09 17:09:10 INFO     Executing: generate_demand_series\n",
      "2025-02-09 17:09:20 INFO     Executing: generate_primary_energy_values\n",
      "2025-02-09 17:09:27 INFO     Executing: generate_final_energy_values\n",
      "2025-02-09 17:09:42 INFO     Executing: generate_capacity_values\n",
      "2025-02-09 17:09:42 INFO     Executing: generate_transport_capacity_values\n",
      "2025-02-09 17:09:42 INFO     Executing: generate_storage_capacity_values\n",
      "2025-02-09 17:09:42 INFO     Executing: generate_emissions_values\n",
      "2025-02-09 17:09:43 INFO     Executing: generate_secondary_energy\n",
      "2025-02-09 17:09:50 INFO     Executing: generate_capital_costs_values\n",
      "2025-02-09 17:09:50 INFO     Executing: generate_fixed_costs_values\n",
      "2025-02-09 17:09:51 INFO     Executing: generate_variable_costs_values\n",
      "2025-02-09 17:09:53 INFO     Executing: generate_transport_capital_costs_values\n",
      "2025-02-09 17:09:53 INFO     Executing: generate_transport_fixed_costs_values\n",
      "2025-02-09 17:09:53 INFO     Executing: generate_levelized_costs_values\n",
      "2025-02-09 17:09:54 INFO     Executing: generate_co2_prices\n",
      "2025-02-09 17:09:54 INFO     Executing: generate_idataframe\n",
      "2025-02-09 17:11:08 INFO     Reading file C:\\Users\\testbed\\Documents\\IAMC_Datatest\\genesysmod_to_iamc\\out\\NECPEssentials_yearly.csv\n"
     ]
    }
   ],
   "source": [
    "genesysmod_to_iamc.generate_data(genesysmod_to_iamc.Pathways.NE.value, \n",
    "                                 \"gdx\",\n",
    "                                 generate_series_data, \n",
    "                                 generate_load_factors,\n",
    "                                 generate_transmission_data,\n",
    "                                 combine_outputs)"
   ]
  },
  {
   "cell_type": "code",
   "execution_count": 6,
   "metadata": {},
   "outputs": [
    {
     "name": "stderr",
     "output_type": "stream",
     "text": [
      "2025-02-09 17:11:09 INFO     Loading gdx with output results\n",
      "2025-02-09 17:11:19 INFO     Executing: generate_transmission_capacity_values\n",
      "2025-02-09 17:11:19 INFO     Executing: generate_demand_series\n",
      "2025-02-09 17:11:30 INFO     Executing: generate_primary_energy_values\n",
      "2025-02-09 17:11:37 INFO     Executing: generate_final_energy_values\n",
      "2025-02-09 17:11:53 INFO     Executing: generate_capacity_values\n",
      "2025-02-09 17:11:53 INFO     Executing: generate_transport_capacity_values\n",
      "2025-02-09 17:11:53 INFO     Executing: generate_storage_capacity_values\n",
      "2025-02-09 17:11:54 INFO     Executing: generate_emissions_values\n",
      "2025-02-09 17:11:54 INFO     Executing: generate_secondary_energy\n",
      "2025-02-09 17:12:02 INFO     Executing: generate_capital_costs_values\n",
      "2025-02-09 17:12:02 INFO     Executing: generate_fixed_costs_values\n",
      "2025-02-09 17:12:02 INFO     Executing: generate_variable_costs_values\n",
      "2025-02-09 17:12:04 INFO     Executing: generate_transport_capital_costs_values\n",
      "2025-02-09 17:12:05 INFO     Executing: generate_transport_fixed_costs_values\n",
      "2025-02-09 17:12:05 INFO     Executing: generate_levelized_costs_values\n",
      "2025-02-09 17:12:05 INFO     Executing: generate_co2_prices\n",
      "2025-02-09 17:12:05 INFO     Executing: generate_idataframe\n",
      "2025-02-09 17:13:22 INFO     Reading file C:\\Users\\testbed\\Documents\\IAMC_Datatest\\genesysmod_to_iamc\\out\\Trinity_yearly.csv\n"
     ]
    }
   ],
   "source": [
    "genesysmod_to_iamc.generate_data(genesysmod_to_iamc.Pathways.TR.value, \n",
    "                                 \"gdx\",\n",
    "                                 generate_series_data, \n",
    "                                 generate_load_factors,\n",
    "                                 generate_transmission_data,\n",
    "                                 combine_outputs)"
   ]
  },
  {
   "cell_type": "markdown",
   "metadata": {},
   "source": [
    "Results will be written to ```\\GENEeSYS-MOD\\scripts\\genesysmod_to_iamc\\out```. The following line of code creates a unified Excel-File with all pathways combined (only yearly values are aggregated due to the file size limit of excel files):"
   ]
  },
  {
   "cell_type": "code",
   "execution_count": 7,
   "metadata": {
    "scrolled": false
   },
   "outputs": [
    {
     "name": "stderr",
     "output_type": "stream",
     "text": [
      "2025-02-09 17:13:23 INFO     Reading file C:\\Users\\testbed\\Documents\\IAMC_Datatest\\genesysmod_to_iamc\\out\\GoRES_yearly.csv\n",
      "2025-02-09 17:13:23 INFO     Reading file C:\\Users\\testbed\\Documents\\IAMC_Datatest\\genesysmod_to_iamc\\out\\NECPEssentials_yearly.csv\n",
      "2025-02-09 17:13:23 INFO     Reading file C:\\Users\\testbed\\Documents\\IAMC_Datatest\\genesysmod_to_iamc\\out\\REPowerEU++_yearly.csv\n",
      "2025-02-09 17:13:23 INFO     Reading file C:\\Users\\testbed\\Documents\\IAMC_Datatest\\genesysmod_to_iamc\\out\\Trinity_yearly.csv\n"
     ]
    }
   ],
   "source": [
    "genesysmod_to_iamc.generate_combined_excel_yearly()"
   ]
  },
  {
   "cell_type": "code",
   "execution_count": null,
   "metadata": {},
   "outputs": [],
   "source": []
  }
 ],
 "metadata": {
  "kernelspec": {
   "display_name": "Python 3",
   "language": "python",
   "name": "python3"
  },
  "language_info": {
   "codemirror_mode": {
    "name": "ipython",
    "version": 3
   },
   "file_extension": ".py",
   "mimetype": "text/x-python",
   "name": "python",
   "nbconvert_exporter": "python",
   "pygments_lexer": "ipython3",
   "version": "3.8.16"
  }
 },
 "nbformat": 4,
 "nbformat_minor": 4
}
