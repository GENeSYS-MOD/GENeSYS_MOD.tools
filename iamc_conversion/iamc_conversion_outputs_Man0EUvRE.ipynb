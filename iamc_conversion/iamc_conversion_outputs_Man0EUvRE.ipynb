{
 "cells": [
  {
   "cell_type": "markdown",
   "metadata": {},
   "source": [
    "### General information\n",
    "\n",
    "This python module uses the following external packages:\n",
    "- pandas\n",
    "- pyam-iamc(https://github.com/IAMconsortium/pyam)\n",
    "- nomenclature-iamc (https://github.com/openENTRANCE/nomenclature)\n",
    "- gdxpds (https://github.com/NREL/gdx-pandas)"
   ]
  },
  {
   "cell_type": "markdown",
   "metadata": {},
   "source": [
    "#### File structure of the module\n",
    "- __this_file__ : Jupyter notebook with general guidelines\n",
    "- /genesysmod_to_iamc : Folder with actual conversion scripts\n",
    " - /genesysmod_to_iamc/mappings/ : Folder with mappings of GENeSYS-MOD variables to openEntrance nomenclature\n",
    " - /genesysmod_to_iamc/inputs/ : Folder with original GENeSYS-MOD pathway results\n",
    " - /genesysmod_to_iamc/out/ : Folder with generated csv files in IAMC format\n",
    " - /genesysmod_to_iamc/definitions : Folder with the definitions from the openENTRANCE nomenclature repository (**see info below**) \n",
    " \n",
    "**Hint:** You need to make sure to download the most current version of the definitions from https://github.com/openENTRANCE/openentrance and paste the folder \"definitions\" in the local folder. A proven working version of the definitions can be found at commit *e16defbd61ad865eb98c2fc718122f10b4c7341e*, available for download here: https://github.com/openENTRANCE/openentrance/commit/e16defbd61ad865eb98c2fc718122f10b4c7341e.\n"
   ]
  },
  {
   "cell_type": "markdown",
   "metadata": {},
   "source": [
    "#### Changes to the scripts required to run the conversion\n",
    "This script uses gdxpds which was unable to succesfully locate the GAMS directory by itself in its newest version. Therefore, the path to GAMS needs to be set manually. **You will need to change the directory such that it correctly points to your installed GAMS distribution.** The variable is called *DEF_GAMS_DIR* and is set in the file *genesysmod_to_iamc/\\_statics.py*.\n",
    "\n",
    "Also, you can change the read-in filenames, model name, etc. in the same file."
   ]
  },
  {
   "cell_type": "markdown",
   "metadata": {},
   "source": [
    "### GENeSYS-MOD to IAMC converter\n",
    "\n",
    "This jupyter notebook shows an exemplary conversion of GENeSYS-MOD results to the common IAMC data fromat. The outputs of the scripts in this module will be csv files, that represent GENeSYS-MOD data in IAMC nomenclature. First, the corresponding scripts will be imported as module to this notebook:"
   ]
  },
  {
   "cell_type": "code",
   "execution_count": null,
   "metadata": {
    "scrolled": true
   },
   "outputs": [],
   "source": [
    "import genesysmod_to_iamc"
   ]
  },
  {
   "cell_type": "markdown",
   "metadata": {},
   "source": [
    "Next, the actual result file conversion can be started by calling ```genesysmod_to_iamc.generate_data(FileName: str, FileType: str)```. For the ease of use, the module ```genesysmod_to_iamc``` also includes an enumeration ```Pathways``` that includes references to the filenames for the openEntrance Pathways:\n",
    "\n",
    "```\n",
    "class Pathways(Enum):\n",
    "    TF = \"TechnoFriendly\"\n",
    "    DT = \"DirectedTransition\"\n",
    "    GD = \"GradualDevelopment\"\n",
    "    SC = \"SocietalCommitment\"\n",
    "    \n",
    "```"
   ]
  },
  {
   "cell_type": "markdown",
   "metadata": {},
   "source": [
    "For any other filenames, the name can be passed as the first argument in the function call as a string, without the file extension. As a second argument, the file type has to be specified. Currently, acceptable file types are ``'gdx'`` and ``'csv'``."
   ]
  },
  {
   "cell_type": "markdown",
   "metadata": {},
   "source": [
    "When using the `'csv'` file type, the output of GENeSYS-MOD's Julia version is expected. This output consists of several csv files, which names start with the corresponding output type, followed by the name of the specific model run. E.g. `'output_energy_balance_Sample_Model_Run.csv'`. It's important that the files keep that naming convention. If the `'csv'` file type is used, the name of the model run (the second part of the output file name) is used as the file name for the first argument in the function call."
   ]
  },
  {
   "cell_type": "markdown",
   "metadata": {},
   "source": [
    "Furthermore, ```genesysmod_to_iamc.generate_data(FileName : str)``` has four optional parameters ```generate_series_data```, ```generate_load_factors```, ```generate_transmission_data```, and ```combine_outputs``` that all default to ```False```. \n",
    "\n",
    "If ```generate_series_data``` is set to ```True```, full hourly demand time series for Final Energy|Residential and Commercial|Electricity, Final Energy|Industry|Electricity, Final Energy|Transportation|Electricity, Final Energy|Electricity, Final Energy|Residential and Commercial and Final Energy|Industry will be generated. Full hourly demand series will be written to an extra file. **Note:** setting this parameter will significantly increase the computing time.\n",
    "\n",
    "If ```generate_load_factors``` is set to ```True```, full hourly load series for Solar PV, Wind Onshore and Wind Offshore will be generated. Full hourly load series will be written to an extra file. **Note:** setting this parameter will significantly increase the computing time.\n",
    "\n",
    "**Note:** For both the series data and load factors, an input excel file in the GENeSYS-MOD format is expected. The file name needs to start with \"Timeseries_\" followed by the gdx file name or the name of the model run for gdx or csv file type respectively (E.g: \"Timeseries_Sample_Model_Run\").\n",
    "\n",
    "If ```generate_transmission_data``` is set to true, the electricity grid information like trade flows and net trade capacities will be output as well.\n",
    "\n",
    "If ```combine_outputs``` is set to ```True```, the different result files for a pathway (yearly, hourly, load factors) can be combined to one single file. "
   ]
  },
  {
   "cell_type": "code",
   "execution_count": null,
   "metadata": {},
   "outputs": [],
   "source": [
    "generate_series_data = False\n",
    "generate_load_factors = False\n",
    "generate_transmission_data = True\n",
    "combine_outputs = True"
   ]
  },
  {
   "cell_type": "markdown",
   "metadata": {},
   "source": [
    "# Man0EUvRE scenarios"
   ]
  },
  {
   "cell_type": "code",
   "execution_count": null,
   "metadata": {},
   "outputs": [],
   "source": [
    "genesysmod_to_iamc.generate_data(genesysmod_to_iamc.Pathways.GR.value, \n",
    "                                 \"gdx\",\n",
    "                                 generate_series_data, \n",
    "                                 generate_load_factors,\n",
    "                                 generate_transmission_data,\n",
    "                                 combine_outputs)"
   ]
  },
  {
   "cell_type": "code",
   "execution_count": null,
   "metadata": {},
   "outputs": [],
   "source": [
    "genesysmod_to_iamc.generate_data(genesysmod_to_iamc.Pathways.RE.value, \n",
    "                                 \"gdx\",\n",
    "                                 generate_series_data, \n",
    "                                 generate_load_factors,\n",
    "                                 generate_transmission_data,\n",
    "                                 combine_outputs)"
   ]
  },
  {
   "cell_type": "code",
   "execution_count": null,
   "metadata": {},
   "outputs": [],
   "source": [
    "genesysmod_to_iamc.generate_data(genesysmod_to_iamc.Pathways.NE.value, \n",
    "                                 \"gdx\",\n",
    "                                 generate_series_data, \n",
    "                                 generate_load_factors,\n",
    "                                 generate_transmission_data,\n",
    "                                 combine_outputs)"
   ]
  },
  {
   "cell_type": "code",
   "execution_count": null,
   "metadata": {},
   "outputs": [],
   "source": [
    "genesysmod_to_iamc.generate_data(genesysmod_to_iamc.Pathways.TR.value, \n",
    "                                 \"gdx\",\n",
    "                                 generate_series_data, \n",
    "                                 generate_load_factors,\n",
    "                                 generate_transmission_data,\n",
    "                                 combine_outputs)"
   ]
  },
  {
   "cell_type": "markdown",
   "metadata": {},
   "source": [
    "Results will be written to ```\\GENEeSYS-MOD\\scripts\\genesysmod_to_iamc\\out```. The following line of code creates a unified Excel-File with all pathways combined (only yearly values are aggregated due to the file size limit of excel files):"
   ]
  },
  {
   "cell_type": "code",
   "execution_count": null,
   "metadata": {},
   "outputs": [],
   "source": [
    "genesysmod_to_iamc.generate_combined_excel_yearly()"
   ]
  },
  {
   "cell_type": "code",
   "execution_count": null,
   "metadata": {},
   "outputs": [],
   "source": []
  }
 ],
 "metadata": {
  "kernelspec": {
   "display_name": "Python 3 (ipykernel)",
   "language": "python",
   "name": "python3"
  },
  "language_info": {
   "codemirror_mode": {
    "name": "ipython",
    "version": 3
   },
   "file_extension": ".py",
   "mimetype": "text/x-python",
   "name": "python",
   "nbconvert_exporter": "python",
   "pygments_lexer": "ipython3",
   "version": "3.12.3"
  }
 },
 "nbformat": 4,
 "nbformat_minor": 4
}
